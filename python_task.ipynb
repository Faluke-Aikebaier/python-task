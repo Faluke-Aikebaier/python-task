{
 "cells": [
  {
   "cell_type": "markdown",
   "metadata": {},
   "source": [
    "1. Write a program that inputs marks of a student and displays \"Pass\" if marks are more than 40 and \"Fail\" otherwise by using conditional expressions or python ternary operator. (points:3)"
   ]
  },
  {
   "cell_type": "code",
   "execution_count": 1,
   "metadata": {},
   "outputs": [
    {
     "name": "stdout",
     "output_type": "stream",
     "text": [

      "Enter your mark:\n",
      "50\n",
      "Pass\n"

     ]
    }
   ],
   "source": [

    "print('Enter your mark:')\n",
    "x=input()\n",
    "\n",
    "if x>=40:\n",
    "    print 'Pass'\n",
    "else:\n",
    "    print 'Fail'"

   ]
  },
  {
   "cell_type": "markdown",
   "metadata": {},
   "source": [
    "2. Write a program to get the hexadecimal of a decimal number. (point:2)"
   ]
  },
  {
   "cell_type": "code",
   "execution_count": 2,
   "metadata": {},
   "outputs": [
    {
     "name": "stdout",
     "output_type": "stream",
     "text": [
      "1.06251\n"
     ]
    }
   ],
   "source": [
    "#2\n",
    "def convert_to_hex(n):\n",
    "  x = (n % 16)\n",
    "  c = \" \"\n",
    "  if (x < 10):\n",
    "    c = x\n",
    "  elif (x == 10):\n",
    "    c =\"A\"\n",
    "  elif (x == 11):\n",
    "    c = \"B\"\n",
    "  elif (x == 12):\n",
    "    c = \"C\"\n",
    "  elif (x == 13):\n",
    "    c =\"D\"\n",
    "  elif (x == 14):\n",
    "    c =\"E\"\n",
    "  elif (x == 15):\n",
    "    c = \"F\"\n",
    "\n",
    "  if (n - x != 0):\n",
    "    return convert_to_hex(n/16) + str(c)\n",
    "  else:\n",
    "    return str(c)\n",
    "\n",
    "print(convert_to_hex(17))"
   ]
  },
  {
   "cell_type": "markdown",
   "metadata": {},
   "source": [
    "3. Write a program that inputs a number and displays whether it is even or odd by using boolean logical operator not. (point : 3)"
   ]
  },
  {
   "cell_type": "code",

   "execution_count": 2,
   "metadata": {},
   "outputs": [
    {
     "name": "stdout",
     "output_type": "stream",
     "text": [
      "Enter a number:\n",
      "2\n",
      "It is an even number\n"
     ]
    }
   ],
   "source": [
    "print('Enter a number:')\n",
    "x=input()\n",
    "\n",
    "y=x%2\n",
    "\n",
    "if y==0:\n",
    "    print('It is an even number')\n",
    "else:\n",
    "    print('It is an odd number')"

   ]
  },
  {
   "cell_type": "markdown",
   "metadata": {},
   "source": [
    "4. Write a program that calculates the electricity bill. The rates of electricity per unit are as follows:\n",
    "> - If the units consumed are <= 300, then the cost is 0.2 cent per unit\n",
    "> - If the units consumed are >300 and <=500, then the cost is 0.5 cent per unit\n",
    "> - If the units consumed exceed 500 then the cost per unit is 0.7 cent\n",
    "> - In a total bill 1 euro is added extra and surcharge of 5% extra if bill exceed 50 euro. Calculate the total bill with all the conditions given above. point(5)"
   ]
  },
  {
   "cell_type": "code",
   "execution_count": 4,
   "metadata": {},

   "outputs": [
    {
     "name": "stdout",
     "output_type": "stream",
     "text": [
      "40.0\n",
      "442.0\n",
      "211.0\n"
     ]
    }
   ],
   "source": [
    "\n",
    "def rate(u):\n",
    "  if u <= 300:\n",
    "    cost = 0.2 * u\n",
    "  elif u>300 and u<=500:\n",
    "    cost = 0.5 * u\n",
    "  else: \n",
    "    cost = 0.7 * u\n",
    "  \n",
    "  if cost > 50:\n",
    "    total = cost + 1 + 0.05*cost\n",
    "  else:\n",
    "    total = cost\n",
    "  print (total)\n",
    "rate(200)\n",
    "rate(600)\n",
    "rate(400)"

   ]
  },
  {
   "cell_type": "markdown",
   "metadata": {},
   "source": [
    "5. How to reverse a string in python using while loop. (point : 3)"
   ]
  },
  {
   "cell_type": "code",
   "execution_count": 5,
   "metadata": {},

   "outputs": [
    {
     "name": "stdout",
     "output_type": "stream",
     "text": [
      "txet\n"
     ]
    }
   ],
   "source": [
    "def reverse(text):\n",
    "  word = \"\"\n",
    "  l = len(text) - 1\n",
    "  while l >= 0:\n",
    "    word = word + text[l]\n",
    "    l -= 1\n",
    "  return word\n",
    "\n",
    "print (reverse(\"text\"))"

   ]
  },
  {
   "cell_type": "markdown",
   "metadata": {},
   "source": [
    "6. Find length of a string in python using while loop.(point : 3)"
   ]
  },
  {
   "cell_type": "code",
   "execution_count": 6,
   "metadata": {},
   "outputs": [
    {
     "name": "stdout",
     "output_type": "stream",
     "text": [
      "5\n"
     ]
    }
   ],
   "source": [
    "def find_length(str): \n",
    "  i = 0\n",
    "  while str[i:]: \n",
    "    i += 1\n",
    "  return i\n",
    "print (find_length(\"hello\")) \n"
   ]
  },
  {
   "cell_type": "markdown",
   "metadata": {},
   "source": [
    "7. Write a python anonymous function such that it can accept a variable length of keyword-arguments and print all argument values. Hint: you can use lambda function  (point : 5)"
   ]
  },
  {
   "cell_type": "code",
   "execution_count": null,
   "metadata": {},
   "outputs": [],
   "source": []
  },
  {
   "cell_type": "markdown",
   "metadata": {},
   "source": [
    "8. Target String - Python 3.x Programming for Data Science & ML. Expected Result - ['Python', '3.x', 'Programming', 'for', 'Data', 'Science', '&', 'ML.'] . (point:3)"
   ]
  },
  {
   "cell_type": "code",
   "execution_count": 7,
   "metadata": {},
   "outputs": [
    {
     "name": "stdout",
     "output_type": "stream",
     "text": [
      "['Python', '3.x', 'Programming', 'for', 'Data', 'Science', '&', 'ML']\n"
     ]
    }
   ],
   "source": [
    "def convert(string): \n",
    "  li = list(string.split(\" \")) \n",
    "  return li \n",
    "target =\"Python 3.x Programming for Data Science & ML\"\n",
    "print (convert(target))"
   ]
  },
  {
   "cell_type": "markdown",
   "metadata": {},
   "source": [
    "9. Write a python lambda function that checks whether a passed string is digit or not. (point 3)"
   ]
  },
  {
   "cell_type": "code",
   "execution_count": 8,
   "metadata": {},
   "outputs": [
    {
     "data": {
      "text/plain": [
       "False"
      ]
     },
     "execution_count": 8,
     "metadata": {},
     "output_type": "execute_result"
    }
   ],
   "source": [
    "def is_number(s):\n",
    "  try:\n",
    "    float(s)\n",
    "    return True\n",
    "  except ValueError:\n",
    "    return False\n",
    "\n",
    "is_number(\"hello\")"
   ]
  },
  {
   "cell_type": "markdown",
   "metadata": {},
   "source": [
    "10. Print the shape “A” :\n",
    "![1.png](1.png)\n",
    "(point : 5)"
   ]
  },
  {
   "cell_type": "code",
   "execution_count": null,
   "metadata": {},
   "outputs": [],
   "source": []
  },
  {
   "cell_type": "markdown",
   "metadata": {},
   "source": [
    "11. Write a program to get The factors of the number eg:\n",
    "The factor of number 6 is: 1,6,2,3 (point: 5)"
   ]
  },
  {
   "cell_type": "code",
   "execution_count": 4,
   "metadata": {},
   "outputs": [
    {
     "name": "stdout",
     "output_type": "stream",
     "text": [

      "Enter a number:\n",
      "6\n",
      "[1, 2, 3, 6]\n"

     ]
    }
   ],
   "source": [

    "def factors(n):\n",
    "  i=1\n",
    "  while i in (i,n+1):\n",
    "    if n % i == 0:\n",
    "      print (i)\n",
    "    i +=1\n",
    "factors(10)"
   ]
  },
  {
   "cell_type": "code",
   "execution_count": null,
   "metadata": {},
   "outputs": [],
   "source": []

  }
 ],
 "metadata": {
  "kernelspec": {
   "display_name": "Python 3",
   "language": "python",
   "name": "python3"
  },
  "language_info": {
   "codemirror_mode": {
    "name": "ipython",
    "version": 3
   },
   "file_extension": ".py",
   "mimetype": "text/x-python",
   "name": "python",
   "nbconvert_exporter": "python",
   "pygments_lexer": "ipython3",
   "version": "3.7.6"
  },
  "latex_envs": {
   "LaTeX_envs_menu_present": true,
   "autoclose": false,
   "autocomplete": true,
   "bibliofile": "biblio.bib",
   "cite_by": "apalike",
   "current_citInitial": 1,
   "eqLabelWithNumbers": true,
   "eqNumInitial": 1,
   "hotkeys": {
    "equation": "Ctrl-E",
    "itemize": "Ctrl-I"
   },
   "labels_anchors": false,
   "latex_user_defs": false,
   "report_style_numbering": false,
   "user_envs_cfg": false
  },
  "toc": {
   "base_numbering": 1,
   "nav_menu": {},
   "number_sections": true,
   "sideBar": true,
   "skip_h1_title": false,
   "title_cell": "Table of Contents",
   "title_sidebar": "Contents",
   "toc_cell": false,
   "toc_position": {},
   "toc_section_display": true,
   "toc_window_display": false
  },
  "varInspector": {
   "cols": {
    "lenName": 16,
    "lenType": 16,
    "lenVar": 40
   },
   "kernels_config": {
    "python": {
     "delete_cmd_postfix": "",
     "delete_cmd_prefix": "del ",
     "library": "var_list.py",
     "varRefreshCmd": "print(var_dic_list())"
    },
    "r": {
     "delete_cmd_postfix": ") ",
     "delete_cmd_prefix": "rm(",
     "library": "var_list.r",
     "varRefreshCmd": "cat(var_dic_list()) "
    }
   },
   "types_to_exclude": [
    "module",
    "function",
    "builtin_function_or_method",
    "instance",
    "_Feature"
   ],
   "window_display": false
  }
 },
 "nbformat": 4,
 "nbformat_minor": 2
}
