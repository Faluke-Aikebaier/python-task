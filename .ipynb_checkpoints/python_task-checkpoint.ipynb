{
 "cells": [
  {
   "cell_type": "markdown",
   "metadata": {},
   "source": [
    "1. Write a program that inputs marks of a student and displays \"Pass\" if marks are more than 40 and \"Fail\" otherwise by using conditional expressions or python ternary operator. (points:3)"
   ]
  },
  {
   "cell_type": "code",
   "execution_count": 1,
   "metadata": {},
   "outputs": [
    {
     "name": "stdout",
     "output_type": "stream",
     "text": [
      "Enter your mark:\n",
      "50\n",
      "Pass\n"
     ]
    }
   ],
   "source": [
    "print('Enter your mark:')\n",
    "x=input()\n",
    "\n",
    "if x>=40:\n",
    "    print 'Pass'\n",
    "else:\n",
    "    print 'Fail'"
   ]
  },
  {
   "cell_type": "markdown",
   "metadata": {},
   "source": [
    "2. Write a program to get the hexadecimal of a decimal number. (point:2)"
   ]
  },
  {
   "cell_type": "code",
   "execution_count": null,
   "metadata": {},
   "outputs": [],
   "source": []
  },
  {
   "cell_type": "markdown",
   "metadata": {},
   "source": [
    "3. Write a program that inputs a number and displays whether it is even or odd by using boolean logical operator not. (point : 3)"
   ]
  },
  {
   "cell_type": "code",
   "execution_count": 2,
   "metadata": {},
   "outputs": [
    {
     "name": "stdout",
     "output_type": "stream",
     "text": [
      "Enter a number:\n",
      "2\n",
      "It is an even number\n"
     ]
    }
   ],
   "source": [
    "print('Enter a number:')\n",
    "x=input()\n",
    "\n",
    "y=x%2\n",
    "\n",
    "if y==0:\n",
    "    print('It is an even number')\n",
    "else:\n",
    "    print('It is an odd number')"
   ]
  },
  {
   "cell_type": "markdown",
   "metadata": {},
   "source": [
    "4. Write a program that calculates the electricity bill. The rates of electricity per unit are as follows:\n",
    "> - If the units consumed are <= 300, then the cost is 0.2 cent per unit\n",
    "> - If the units consumed are >300 and <=500, then the cost is 0.5 cent per unit\n",
    "> - If the units consumed exceed 500 then the cost per unit is 0.7 cent\n",
    "> - In a total bill 1 euro is added extra and surcharge of 5% extra if bill exceed 50 euro. Calculate the total bill with all the conditions given above. point(5)"
   ]
  },
  {
   "cell_type": "code",
   "execution_count": null,
   "metadata": {},
   "outputs": [],
   "source": [
    "print('Enter the usage of the electricity in kWh:')\n",
    "x=input()\n",
    "\n",
    "cost=0\n",
    "if x<=300:\n",
    "    cost=x*0.2\n",
    "elif x>300 and x<=500:\n",
    "    cost=x*0.5\n",
    "else:\n",
    "    cost=x*0.7\n",
    "    \n",
    "cost=cost/100.0\n",
    "\n",
    "if cost>50.0:\n",
    "    cost=cost*0.05+cost\n",
    "    \n",
    "cost=cost+1\n",
    "\n",
    "print cost"
   ]
  },
  {
   "cell_type": "markdown",
   "metadata": {},
   "source": [
    "5. How to reverse a string in python using while loop. (point : 3)"
   ]
  },
  {
   "cell_type": "code",
   "execution_count": null,
   "metadata": {},
   "outputs": [],
   "source": [
    "print('Enter a word:')\n",
    "x=raw_input()\n",
    "\n",
    "y=[]\n",
    "j=len(x)-1\n",
    "for i in range(0,len(x)):\n",
    "    y.append(x[j])\n",
    "    j=j-1\n",
    "    \n",
    "print y"
   ]
  },
  {
   "cell_type": "markdown",
   "metadata": {},
   "source": [
    "6. Find length of a string in python using while loop.(point : 3)"
   ]
  },
  {
   "cell_type": "code",
   "execution_count": null,
   "metadata": {},
   "outputs": [],
   "source": []
  },
  {
   "cell_type": "markdown",
   "metadata": {},
   "source": [
    "7. Write a python anonymous function such that it can accept a variable length of keyword-arguments and print all argument values. Hint: you can use lambda function  (point : 5)"
   ]
  },
  {
   "cell_type": "code",
   "execution_count": null,
   "metadata": {},
   "outputs": [],
   "source": []
  },
  {
   "cell_type": "markdown",
   "metadata": {},
   "source": [
    "8. Target String - Python 3.x Programming for Data Science & ML. Expected Result - ['Python', '3.x', 'Programming', 'for', 'Data', 'Science', '&', 'ML.'] . (point:3)"
   ]
  },
  {
   "cell_type": "code",
   "execution_count": null,
   "metadata": {},
   "outputs": [],
   "source": []
  },
  {
   "cell_type": "markdown",
   "metadata": {},
   "source": [
    "9. Write a python lambda function that checks whether a passed string is digit or not. (point 3)"
   ]
  },
  {
   "cell_type": "code",
   "execution_count": null,
   "metadata": {},
   "outputs": [],
   "source": []
  },
  {
   "cell_type": "markdown",
   "metadata": {},
   "source": [
    "10. Print the shape “A” :\n",
    "![1.png](1.png)\n",
    "(point : 5)"
   ]
  },
  {
   "cell_type": "code",
   "execution_count": null,
   "metadata": {},
   "outputs": [],
   "source": []
  },
  {
   "cell_type": "markdown",
   "metadata": {},
   "source": [
    "11. Write a program to get The factors of the number eg:\n",
    "The factor of number 6 is: 1,6,2,3 (point: 5)"
   ]
  },
  {
   "cell_type": "code",
   "execution_count": 4,
   "metadata": {},
   "outputs": [
    {
     "name": "stdout",
     "output_type": "stream",
     "text": [
      "Enter a number:\n",
      "6\n",
      "[1, 2, 3, 6]\n"
     ]
    }
   ],
   "source": [
    "print('Enter a number:')\n",
    "x=input()\n",
    "z=[]\n",
    "\n",
    "for i in range(1,x+1):\n",
    "    y=x%i\n",
    "    if y==0:\n",
    "        z.append(i)\n",
    "        \n",
    "print z"
   ]
  }
 ],
 "metadata": {
  "kernelspec": {
   "display_name": "Python 2",
   "language": "python",
   "name": "python2"
  },
  "language_info": {
   "codemirror_mode": {
    "name": "ipython",
    "version": 2
   },
   "file_extension": ".py",
   "mimetype": "text/x-python",
   "name": "python",
   "nbconvert_exporter": "python",
   "pygments_lexer": "ipython2",
   "version": "2.7.16"
  },
  "latex_envs": {
   "LaTeX_envs_menu_present": true,
   "autoclose": false,
   "autocomplete": true,
   "bibliofile": "biblio.bib",
   "cite_by": "apalike",
   "current_citInitial": 1,
   "eqLabelWithNumbers": true,
   "eqNumInitial": 1,
   "hotkeys": {
    "equation": "Ctrl-E",
    "itemize": "Ctrl-I"
   },
   "labels_anchors": false,
   "latex_user_defs": false,
   "report_style_numbering": false,
   "user_envs_cfg": false
  },
  "varInspector": {
   "cols": {
    "lenName": 16,
    "lenType": 16,
    "lenVar": 40
   },
   "kernels_config": {
    "python": {
     "delete_cmd_postfix": "",
     "delete_cmd_prefix": "del ",
     "library": "var_list.py",
     "varRefreshCmd": "print(var_dic_list())"
    },
    "r": {
     "delete_cmd_postfix": ") ",
     "delete_cmd_prefix": "rm(",
     "library": "var_list.r",
     "varRefreshCmd": "cat(var_dic_list()) "
    }
   },
   "types_to_exclude": [
    "module",
    "function",
    "builtin_function_or_method",
    "instance",
    "_Feature"
   ],
   "window_display": false
  }
 },
 "nbformat": 4,
 "nbformat_minor": 2
}
